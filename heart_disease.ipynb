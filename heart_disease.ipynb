{
 "cells": [
  {
   "cell_type": "markdown",
   "metadata": {},
   "source": [
    "## Setup"
   ]
  },
  {
   "cell_type": "code",
   "execution_count": 10,
   "metadata": {},
   "outputs": [],
   "source": [
    "import pandas as pd\n",
    "import numpy as np\n",
    "from sklearn.model_selection import train_test_split\n",
    "from sklearn.tree import DecisionTreeClassifier\n",
    "from sklearn import metrics\n",
    "from matplotlib import pyplot"
   ]
  },
  {
   "cell_type": "markdown",
   "metadata": {},
   "source": [
    "## Import Data"
   ]
  },
  {
   "cell_type": "code",
   "execution_count": 3,
   "metadata": {},
   "outputs": [],
   "source": [
    "df = pd.read_csv(\"heart_disease_health_indicators_BRFSS2015.csv\", skiprows=0, header=0, na_values= \"\", dtype=str)"
   ]
  },
  {
   "cell_type": "markdown",
   "metadata": {},
   "source": [
    "## Balance Data"
   ]
  },
  {
   "cell_type": "code",
   "execution_count": 4,
   "metadata": {},
   "outputs": [
    {
     "data": {
      "text/html": [
       "<div>\n",
       "<style scoped>\n",
       "    .dataframe tbody tr th:only-of-type {\n",
       "        vertical-align: middle;\n",
       "    }\n",
       "\n",
       "    .dataframe tbody tr th {\n",
       "        vertical-align: top;\n",
       "    }\n",
       "\n",
       "    .dataframe thead th {\n",
       "        text-align: right;\n",
       "    }\n",
       "</style>\n",
       "<table border=\"1\" class=\"dataframe\">\n",
       "  <thead>\n",
       "    <tr style=\"text-align: right;\">\n",
       "      <th></th>\n",
       "      <th>HeartDiseaseorAttack</th>\n",
       "      <th>HighBP</th>\n",
       "      <th>HighChol</th>\n",
       "      <th>CholCheck</th>\n",
       "      <th>BMI</th>\n",
       "      <th>Smoker</th>\n",
       "      <th>Stroke</th>\n",
       "      <th>Diabetes</th>\n",
       "      <th>PhysActivity</th>\n",
       "      <th>Fruits</th>\n",
       "      <th>...</th>\n",
       "      <th>AnyHealthcare</th>\n",
       "      <th>NoDocbcCost</th>\n",
       "      <th>GenHlth</th>\n",
       "      <th>MentHlth</th>\n",
       "      <th>PhysHlth</th>\n",
       "      <th>DiffWalk</th>\n",
       "      <th>Sex</th>\n",
       "      <th>Age</th>\n",
       "      <th>Education</th>\n",
       "      <th>Income</th>\n",
       "    </tr>\n",
       "  </thead>\n",
       "  <tbody>\n",
       "    <tr>\n",
       "      <th>210985</th>\n",
       "      <td>1.0</td>\n",
       "      <td>1.0</td>\n",
       "      <td>0.0</td>\n",
       "      <td>1.0</td>\n",
       "      <td>27.0</td>\n",
       "      <td>0.0</td>\n",
       "      <td>0.0</td>\n",
       "      <td>0.0</td>\n",
       "      <td>1.0</td>\n",
       "      <td>1.0</td>\n",
       "      <td>...</td>\n",
       "      <td>1.0</td>\n",
       "      <td>0.0</td>\n",
       "      <td>1.0</td>\n",
       "      <td>0.0</td>\n",
       "      <td>0.0</td>\n",
       "      <td>0.0</td>\n",
       "      <td>1.0</td>\n",
       "      <td>12.0</td>\n",
       "      <td>5.0</td>\n",
       "      <td>8.0</td>\n",
       "    </tr>\n",
       "    <tr>\n",
       "      <th>17080</th>\n",
       "      <td>0.0</td>\n",
       "      <td>1.0</td>\n",
       "      <td>1.0</td>\n",
       "      <td>1.0</td>\n",
       "      <td>34.0</td>\n",
       "      <td>0.0</td>\n",
       "      <td>0.0</td>\n",
       "      <td>2.0</td>\n",
       "      <td>0.0</td>\n",
       "      <td>1.0</td>\n",
       "      <td>...</td>\n",
       "      <td>1.0</td>\n",
       "      <td>0.0</td>\n",
       "      <td>5.0</td>\n",
       "      <td>3.0</td>\n",
       "      <td>5.0</td>\n",
       "      <td>1.0</td>\n",
       "      <td>0.0</td>\n",
       "      <td>11.0</td>\n",
       "      <td>3.0</td>\n",
       "      <td>2.0</td>\n",
       "    </tr>\n",
       "    <tr>\n",
       "      <th>72454</th>\n",
       "      <td>0.0</td>\n",
       "      <td>0.0</td>\n",
       "      <td>0.0</td>\n",
       "      <td>1.0</td>\n",
       "      <td>35.0</td>\n",
       "      <td>1.0</td>\n",
       "      <td>0.0</td>\n",
       "      <td>0.0</td>\n",
       "      <td>1.0</td>\n",
       "      <td>1.0</td>\n",
       "      <td>...</td>\n",
       "      <td>1.0</td>\n",
       "      <td>0.0</td>\n",
       "      <td>3.0</td>\n",
       "      <td>7.0</td>\n",
       "      <td>2.0</td>\n",
       "      <td>0.0</td>\n",
       "      <td>1.0</td>\n",
       "      <td>6.0</td>\n",
       "      <td>6.0</td>\n",
       "      <td>8.0</td>\n",
       "    </tr>\n",
       "    <tr>\n",
       "      <th>70383</th>\n",
       "      <td>1.0</td>\n",
       "      <td>1.0</td>\n",
       "      <td>1.0</td>\n",
       "      <td>1.0</td>\n",
       "      <td>26.0</td>\n",
       "      <td>1.0</td>\n",
       "      <td>0.0</td>\n",
       "      <td>2.0</td>\n",
       "      <td>0.0</td>\n",
       "      <td>0.0</td>\n",
       "      <td>...</td>\n",
       "      <td>1.0</td>\n",
       "      <td>0.0</td>\n",
       "      <td>4.0</td>\n",
       "      <td>0.0</td>\n",
       "      <td>15.0</td>\n",
       "      <td>1.0</td>\n",
       "      <td>1.0</td>\n",
       "      <td>11.0</td>\n",
       "      <td>4.0</td>\n",
       "      <td>8.0</td>\n",
       "    </tr>\n",
       "    <tr>\n",
       "      <th>183409</th>\n",
       "      <td>1.0</td>\n",
       "      <td>0.0</td>\n",
       "      <td>1.0</td>\n",
       "      <td>1.0</td>\n",
       "      <td>26.0</td>\n",
       "      <td>1.0</td>\n",
       "      <td>0.0</td>\n",
       "      <td>2.0</td>\n",
       "      <td>0.0</td>\n",
       "      <td>1.0</td>\n",
       "      <td>...</td>\n",
       "      <td>1.0</td>\n",
       "      <td>0.0</td>\n",
       "      <td>3.0</td>\n",
       "      <td>0.0</td>\n",
       "      <td>0.0</td>\n",
       "      <td>0.0</td>\n",
       "      <td>0.0</td>\n",
       "      <td>13.0</td>\n",
       "      <td>4.0</td>\n",
       "      <td>5.0</td>\n",
       "    </tr>\n",
       "  </tbody>\n",
       "</table>\n",
       "<p>5 rows × 22 columns</p>\n",
       "</div>"
      ],
      "text/plain": [
       "       HeartDiseaseorAttack HighBP HighChol CholCheck   BMI Smoker Stroke  \\\n",
       "210985                  1.0    1.0      0.0       1.0  27.0    0.0    0.0   \n",
       "17080                   0.0    1.0      1.0       1.0  34.0    0.0    0.0   \n",
       "72454                   0.0    0.0      0.0       1.0  35.0    1.0    0.0   \n",
       "70383                   1.0    1.0      1.0       1.0  26.0    1.0    0.0   \n",
       "183409                  1.0    0.0      1.0       1.0  26.0    1.0    0.0   \n",
       "\n",
       "       Diabetes PhysActivity Fruits  ... AnyHealthcare NoDocbcCost GenHlth  \\\n",
       "210985      0.0          1.0    1.0  ...           1.0         0.0     1.0   \n",
       "17080       2.0          0.0    1.0  ...           1.0         0.0     5.0   \n",
       "72454       0.0          1.0    1.0  ...           1.0         0.0     3.0   \n",
       "70383       2.0          0.0    0.0  ...           1.0         0.0     4.0   \n",
       "183409      2.0          0.0    1.0  ...           1.0         0.0     3.0   \n",
       "\n",
       "       MentHlth PhysHlth DiffWalk  Sex   Age Education Income  \n",
       "210985      0.0      0.0      0.0  1.0  12.0       5.0    8.0  \n",
       "17080       3.0      5.0      1.0  0.0  11.0       3.0    2.0  \n",
       "72454       7.0      2.0      0.0  1.0   6.0       6.0    8.0  \n",
       "70383       0.0     15.0      1.0  1.0  11.0       4.0    8.0  \n",
       "183409      0.0      0.0      0.0  0.0  13.0       4.0    5.0  \n",
       "\n",
       "[5 rows x 22 columns]"
      ]
     },
     "execution_count": 4,
     "metadata": {},
     "output_type": "execute_result"
    }
   ],
   "source": [
    "#shuffle dataframe\n",
    "df = df.sample(frac=1)\n",
    "\n",
    "#get 25,000 random samples from each class\n",
    "disease = df.loc[df['HeartDiseaseorAttack'] == '1.0'][:25000]\n",
    "no_disease = df.loc[df['HeartDiseaseorAttack'] == '0.0'][:25000]\n",
    "\n",
    "#concatenate the two classes\n",
    "balanced_data = pd.concat([disease, no_disease])\n",
    "\n",
    "#shuffle new balanced dataframe\n",
    "balanced_data = balanced_data.sample(frac=1)\n",
    "\n",
    "balanced_data.head()"
   ]
  },
  {
   "cell_type": "code",
   "execution_count": 37,
   "metadata": {},
   "outputs": [],
   "source": [
    "feature_cols = [\"HighBP\",\"HighChol\",\"CholCheck\",\"BMI\",\"Smoker\",\"Stroke\",\"Diabetes\",\"PhysActivity\",\"Fruits\",\"Veggies\",\"HvyAlcoholConsump\",\"AnyHealthcare\",\"NoDocbcCost\",\"GenHlth\",\"MentHlth\",\"PhysHlth\",\"DiffWalk\",\"Sex\",\"Age\",\"Education\",\"Income\"]\n",
    "\n",
    "#change to balanced or unbalanced dataframe\n",
    "X = balanced_data[feature_cols]\n",
    "y = balanced_data.HeartDiseaseorAttack"
   ]
  },
  {
   "cell_type": "markdown",
   "metadata": {},
   "source": [
    "## Train Test Split"
   ]
  },
  {
   "cell_type": "code",
   "execution_count": 38,
   "metadata": {},
   "outputs": [],
   "source": [
    "#enter test split\n",
    "X_train, X_test, y_train, y_test = train_test_split(X, y, test_size=0.1, random_state=1) "
   ]
  },
  {
   "cell_type": "markdown",
   "metadata": {},
   "source": [
    "## Create Decision Tree"
   ]
  },
  {
   "cell_type": "code",
   "execution_count": 39,
   "metadata": {},
   "outputs": [],
   "source": [
    "# Create Decision Tree classifer object\n",
    "clf = DecisionTreeClassifier()\n",
    "\n",
    "# Train Decision Tree Classifer\n",
    "clf = clf.fit(X_train,y_train)\n",
    "\n",
    "#Predict the response for test dataset\n",
    "y_pred = clf.predict(X_test)"
   ]
  },
  {
   "cell_type": "markdown",
   "metadata": {},
   "source": [
    "## Print Model Accuracy"
   ]
  },
  {
   "cell_type": "code",
   "execution_count": 8,
   "metadata": {},
   "outputs": [
    {
     "name": "stdout",
     "output_type": "stream",
     "text": [
      "Accuracy: 0.6758931006272157\n",
      "Kappa statistic:  0.35109280777000873\n"
     ]
    }
   ],
   "source": [
    "# Model Accuracy, how often is the classifier correct?\n",
    "print(\"Accuracy:\",metrics.accuracy_score(y_test, y_pred))\n",
    "print(\"Kappa statistic: \", metrics.cohen_kappa_score(y_test, y_pred))"
   ]
  },
  {
   "cell_type": "code",
   "execution_count": 31,
   "metadata": {},
   "outputs": [],
   "source": [
    "models = []\n",
    "data_types = {\"Balanced\": balanced_data, \"Unbalanced\": df}\n",
    "test_split_sizes = [0.1, 0.3, 0.5]\n",
    "feature_cols = [\"HighBP\",\"HighChol\",\"CholCheck\",\"BMI\",\"Smoker\",\"Stroke\",\"Diabetes\",\"PhysActivity\",\"Fruits\",\"Veggies\",\"HvyAlcoholConsump\",\"AnyHealthcare\",\"NoDocbcCost\",\"GenHlth\",\"MentHlth\",\"PhysHlth\",\"DiffWalk\",\"Sex\",\"Age\",\"Education\",\"Income\"]\n"
   ]
  },
  {
   "cell_type": "code",
   "execution_count": 33,
   "metadata": {},
   "outputs": [],
   "source": [
    "from sklearn.metrics import confusion_matrix"
   ]
  },
  {
   "cell_type": "code",
   "execution_count": 35,
   "metadata": {},
   "outputs": [
    {
     "name": "stdout",
     "output_type": "stream",
     "text": [
      "Balanced 0.1: 0.362\n",
      "0.3292372881355932\n",
      "Balanced 0.3: 0.350\n",
      "0.33389473684210524\n",
      "Balanced 0.5: 0.345\n",
      "0.34306508281746695\n",
      "Unbalanced 0.1: 0.180\n",
      "0.7231514084507042\n",
      "Unbalanced 0.3: 0.180\n",
      "0.7196552211389007\n",
      "Unbalanced 0.5: 0.179\n",
      "0.7181894383906119\n"
     ]
    }
   ],
   "source": [
    "for balanced_type in data_types:\n",
    "    X = data_types[balanced_type][feature_cols]\n",
    "    Y = data_types[balanced_type].HeartDiseaseorAttack\n",
    "    for split_size in test_split_sizes:\n",
    "        X_train, X_test, y_train, y_test = train_test_split(X, Y, test_size=split_size, random_state=1) \n",
    "        model = DecisionTreeClassifier()\n",
    "        model = model.fit(X_train,y_train)\n",
    "        y_pred = model.predict(X_test)\n",
    "        print(balanced_type + \" \" + str(split_size) + \": %.3f\" % metrics.cohen_kappa_score(y_test, y_pred))\n",
    "        # find fnr\n",
    "        _, _, fn, tp = confusion_matrix(y_test, y_pred).ravel()\n",
    "        print(fn / (fn + tp))"
   ]
  },
  {
   "cell_type": "markdown",
   "metadata": {},
   "source": [
    "## Optional: Try and display decision tree"
   ]
  },
  {
   "cell_type": "code",
   "execution_count": 173,
   "metadata": {},
   "outputs": [],
   "source": [
    "#from six import StringIO\n",
    "#from sklearn.tree import export_graphviz\n",
    "#from six import StringIO\n",
    "#from IPython.display import Image \n",
    "#import pydot \n",
    "#import pydotplus"
   ]
  },
  {
   "cell_type": "code",
   "execution_count": 174,
   "metadata": {},
   "outputs": [],
   "source": [
    "#dot_data = StringIO()\n",
    "#export_graphviz(clf, out_file=dot_data,  \n",
    "#                filled=True, rounded=True,\n",
    "#                special_characters=True,feature_names = feature_cols,class_names=['0','1'])\n",
    "#graph = pydotplus.graph_from_dot_data(dot_data.getvalue())  \n",
    "#graph.write_png('heart_disease.png')\n",
    "#Image(graph.create_png())"
   ]
  },
  {
   "cell_type": "code",
   "execution_count": 46,
   "metadata": {},
   "outputs": [],
   "source": [
    "from sklearn.tree import plot_tree\n",
    "import matplotlib.pyplot as plt"
   ]
  },
  {
   "cell_type": "code",
   "execution_count": 49,
   "metadata": {},
   "outputs": [
    {
     "data": {
      "image/png": "[encoded data removed]",
      "text/plain": [
       "<Figure size 1152x576 with 1 Axes>"
      ]
     },
     "metadata": {
      "needs_background": "light"
     },
     "output_type": "display_data"
    }
   ],
   "source": [
    "plt.figure(figsize=(16,8))\n",
    "plot_tree(clf, max_depth=3, feature_names=feature_cols, fontsize=10);"
   ]
  },
  {
   "cell_type": "markdown",
   "metadata": {},
   "source": [
    "# Logistic Regression"
   ]
  },
  {
   "cell_type": "code",
   "execution_count": 15,
   "metadata": {},
   "outputs": [],
   "source": [
    "from sklearn.linear_model import LogisticRegression\n",
    "from sklearn.metrics import roc_curve, roc_auc_score"
   ]
  },
  {
   "cell_type": "code",
   "execution_count": 13,
   "metadata": {},
   "outputs": [],
   "source": [
    "models = []\n",
    "data_types = {\"Balanced\": balanced_data, \"Unbalanced\": df}\n",
    "test_split_sizes = [0.1, 0.3, 0.5]\n",
    "feature_cols = [\"HighBP\",\"HighChol\",\"CholCheck\",\"BMI\",\"Smoker\",\"Stroke\",\"Diabetes\",\"PhysActivity\",\"Fruits\",\"Veggies\",\"HvyAlcoholConsump\",\"AnyHealthcare\",\"NoDocbcCost\",\"GenHlth\",\"MentHlth\",\"PhysHlth\",\"DiffWalk\",\"Sex\",\"Age\",\"Education\",\"Income\"]\n"
   ]
  },
  {
   "cell_type": "code",
   "execution_count": 27,
   "metadata": {},
   "outputs": [
    {
     "name": "stdout",
     "output_type": "stream",
     "text": [
      "Balanced 0.1: 0.854\n",
      "Balanced 0.3: 0.847\n",
      "Balanced 0.5: 0.846\n",
      "Unbalanced 0.1: 0.847\n",
      "Unbalanced 0.3: 0.848\n",
      "Unbalanced 0.5: 0.847\n"
     ]
    }
   ],
   "source": [
    "for balanced_type in data_types:\n",
    "    X = data_types[balanced_type][feature_cols]\n",
    "    Y = data_types[balanced_type].HeartDiseaseorAttack\n",
    "    for split_size in test_split_sizes:\n",
    "        X_train, X_test, y_train, y_test = train_test_split(X, Y, test_size=split_size, random_state=1) \n",
    "        model = LogisticRegression(max_iter=600)\n",
    "        model = model.fit(X_train,y_train)\n",
    "        y_pred = model.predict_proba(X_test)\n",
    "        print(balanced_type + \" \" + str(split_size) + \": %.3f\" % roc_auc_score(y_test, y_pred[:, 1]))\n",
    "        # fpr, tpr, _ = roc_curve(y_test, y_pred[:, 1], pos_label='1.0')\n",
    "        # pyplot.plot(fpr, tpr, label=balanced_type + \" \" + str(split_size))\n",
    "        # pyplot.legend()\n",
    "        # pyplot.show()"
   ]
  },
  {
   "cell_type": "code",
   "execution_count": 30,
   "metadata": {},
   "outputs": [
    {
     "data": {
      "image/png": "[encoded data removed]",
      "text/plain": [
       "<Figure size 432x288 with 1 Axes>"
      ]
     },
     "metadata": {
      "needs_background": "light"
     },
     "output_type": "display_data"
    }
   ],
   "source": [
    "X = balanced_data[feature_cols]\n",
    "Y = balanced_data.HeartDiseaseorAttack\n",
    "X_train, X_test, y_train, y_test = train_test_split(X, Y, test_size=0.1, random_state=1) \n",
    "model = LogisticRegression(max_iter=600)\n",
    "model = model.fit(X_train,y_train)\n",
    "y_pred = model.predict_proba(X_test)\n",
    "fpr, tpr, _ = roc_curve(y_test, y_pred[:, 1], pos_label='1.0')\n",
    "pyplot.plot(fpr, tpr, label=\"Balanced, 90/10 split\")\n",
    "pyplot.xlabel('False Positive Rate')\n",
    "pyplot.ylabel('True Positive Rate')\n",
    "pyplot.legend()\n",
    "pyplot.show()"
   ]
  }
 ],
 "metadata": {
  "interpreter": {
   "hash": "aee8b7b246df8f9039afb4144a1f6fd8d2ca17a180786b69acc140d282b71a49"
  },
  "kernelspec": {
   "display_name": "Python 3.9.7 64-bit",
   "language": "python",
   "name": "python3"
  },
  "language_info": {
   "codemirror_mode": {
    "name": "ipython",
    "version": 3
   },
   "file_extension": ".py",
   "mimetype": "text/x-python",
   "name": "python",
   "nbconvert_exporter": "python",
   "pygments_lexer": "ipython3",
   "version": "3.9.7"
  },
  "orig_nbformat": 4
 },
 "nbformat": 4,
 "nbformat_minor": 2
}
